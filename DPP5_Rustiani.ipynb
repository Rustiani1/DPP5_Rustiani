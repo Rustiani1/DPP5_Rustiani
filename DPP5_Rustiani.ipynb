{
  "cells": [
    {
      "cell_type": "code",
      "execution_count": 2,
      "metadata": {
        "colab": {
          "base_uri": "https://localhost:8080/"
        },
        "id": "YyNoKo8iIcjV",
        "outputId": "93ddc572-4b32-415e-8305-1c0e503f393e"
      },
      "outputs": [
        {
          "name": "stdout",
          "output_type": "stream",
          "text": [
            "Nama: Rustiani\n",
            "Kelas: TI22C\n",
            "NIM: 20220040003\n",
            "Tempat lahir: Sukabumi\n",
            "BIODATANYA Rustiani, TI22C, 20220040003, Sukabumi\n"
          ]
        }
      ],
      "source": [
        "#1. Biodata\n",
        "nama = str(input('Nama: '))\n",
        "kelas = str(input('Kelas: '))\n",
        "NIM = int(input('NIM: '))\n",
        "tmpt_lhr = str(input('Tempat lahir: '))\n",
        "print(f'BIODATANYA {nama}, {kelas}, {NIM}, {tmpt_lhr}')"
      ]
    },
    {
      "cell_type": "code",
      "execution_count": 3,
      "metadata": {
        "colab": {
          "base_uri": "https://localhost:8080/"
        },
        "id": "ULgBbGJlLLLp",
        "outputId": "3de5649e-cd66-4eac-f815-14979b02fff5"
      },
      "outputs": [
        {
          "name": "stdout",
          "output_type": "stream",
          "text": [
            "putra nusa  \n",
            "N I V E R S I T A S   N S A   P U T R A   S U K A B U M I  \n",
            "SUKABUMI PUTRA NUSA UNIVERSITAS  \n",
            "U N P S  \n",
            "TAS SAPU BUMI\n"
          ]
        }
      ],
      "source": [
        "#2.a0\n",
        "a = \"UNIVERSITAS NUSA PUTRA SUKABUMI\"\n",
        "a = a[12:22]\n",
        "c = a.split()\n",
        "d = list(c)\n",
        "d.reverse()\n",
        "for i in d:\n",
        "  print(i.lower(),end=' ')\n",
        "print(' ')\n",
        "#2.b\n",
        "a = \"UNIVERSITAS NUSA PUTRA SUKABUMI\"\n",
        "a = a[1:31]\n",
        "b = list(a)\n",
        "b.remove('U')\n",
        "for i in b:\n",
        "  print(i,end=' ')\n",
        "print(' ')\n",
        "\n",
        "#2.c\n",
        "a = \"UNIVERSITAS NUSA PUTRA SUKABUMI\"\n",
        "b = a.split()\n",
        "c = list(b)\n",
        "c.reverse()\n",
        "for a in c:\n",
        "  print(a,end=' ')\n",
        "print(' ')\n",
        "\n",
        "#2.d\n",
        "a = \"UNIVERSITAS NUSA PUTRA SUKABUMI\"\n",
        "b = a.split()\n",
        "c = list(b)\n",
        "for i in c:\n",
        "  print(i[0], end=' ')\n",
        "print(' ')\n",
        "\n",
        "#2.e\n",
        "a = \"UNIVERSITAS NUSA PUTRA SUKABUMI\"\n",
        "b = a.split()\n",
        "c = b[0]\n",
        "d = b[1]\n",
        "e = b[2]\n",
        "f = b[3]\n",
        "print(c[8:11], f'{d[2:4]}{e[0:2]}',f[4:8])"
      ]
    }
  ],
  "metadata": {
    "colab": {
      "provenance": []
    },
    "kernelspec": {
      "display_name": "base",
      "language": "python",
      "name": "python3"
    },
    "language_info": {
      "name": "python",
      "version": "3.9.13 (main, Aug 25 2022, 23:51:50) [MSC v.1916 64 bit (AMD64)]"
    },
    "vscode": {
      "interpreter": {
        "hash": "f720b38b2daeb371cd2c3b0397f14c049209d6618656e8ba446fc2682328c8ef"
      }
    }
  },
  "nbformat": 4,
  "nbformat_minor": 0
}
